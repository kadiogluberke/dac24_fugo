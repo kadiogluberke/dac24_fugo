{
 "cells": [
  {
   "cell_type": "code",
   "execution_count": 1,
   "id": "8374841d-8e9f-4c64-8a68-2a41b6cf263f",
   "metadata": {},
   "outputs": [],
   "source": [
    "import pandas as pd\n",
    "import numpy as np\n",
    "\n",
    "from sklearn.model_selection import train_test_split, cross_val_score\n",
    "from sklearn.preprocessing import MinMaxScaler\n",
    "from sklearn.metrics import mean_squared_error\n",
    "\n",
    "from datetime import timedelta, datetime\n",
    "#import holidays\n",
    "\n",
    "import matplotlib\n",
    "import pickle\n",
    "import seaborn as sns\n",
    "\n",
    "import plotly.express as px\n",
    "import matplotlib.pyplot as plt\n",
    "import plotly.graph_objs as go\n",
    "\n",
    "matplotlib.pyplot.style.use('ggplot')\n",
    "%matplotlib inline\n",
    "\n",
    "pd.set_option('display.max_columns', None)\n",
    "pd.set_option('display.max_rows', None)\n",
    "pd.set_option('display.float_format', lambda x: '%.6f' % x)\n",
    "pd.set_option('display.width', 500)"
   ]
  },
  {
   "cell_type": "code",
   "execution_count": 2,
   "id": "6cea2ccb-65d2-4316-b9a7-15a4c8ec9a74",
   "metadata": {},
   "outputs": [],
   "source": [
    "df_train = pd.read_csv('../../../data/df_train_preprocessed.csv')"
   ]
  },
  {
   "cell_type": "code",
   "execution_count": 3,
   "id": "91154479-f86e-4e3e-9314-0be6ab036a31",
   "metadata": {
    "scrolled": true
   },
   "outputs": [
    {
     "data": {
      "text/plain": [
       "ID                        599437\n",
       "TARGET                    599437\n",
       "open_year                 599437\n",
       "open_month                599437\n",
       "first_prediction          574752\n",
       "log_first_prediction      574752\n",
       "economic_class            599437\n",
       "log_TARGET                599437\n",
       "Retention_count_D0_3      599437\n",
       "Retention_count_D4_7      599437\n",
       "Retention_count_D8_11     599437\n",
       "Retention_count_D12_15    599437\n",
       "Avg_Lvl_Count_D0_3        599437\n",
       "Avg_Lvl_Count_D4_7        599437\n",
       "Avg_Lvl_Count_D8_11       599437\n",
       "Avg_Lvl_Count_D12_15      599437\n",
       "Avg_Duration_Lvl0_3       599437\n",
       "Avg_Duration_Lvl4_7       599437\n",
       "Avg_Duration_Lvl8_10      599437\n",
       "Total_AdRevenueD0_3       599437\n",
       "Total_AdRevenueD4_7       599437\n",
       "Total_AdRevenueD8_11      599437\n",
       "Total_AdRevenueD12_15     599437\n",
       "Total_IAPRevenueD0_3      599437\n",
       "Total_IAPRevenueD4_7      599437\n",
       "Total_IAPRevenueD8_11     599437\n",
       "Total_IAPRevenueD12_15    599437\n",
       "Total_AdRevenue           599437\n",
       "Total_IAPRevenue          599437\n",
       "dtype: int64"
      ]
     },
     "execution_count": 3,
     "metadata": {},
     "output_type": "execute_result"
    }
   ],
   "source": [
    "df_train[(round(df_train['log_TARGET'], 1) <= -29.9)].count()"
   ]
  },
  {
   "cell_type": "code",
   "execution_count": 4,
   "id": "0eda81ff-a9f5-40ff-a9aa-4e02db7b969e",
   "metadata": {},
   "outputs": [],
   "source": [
    "df_train['target_class'] = np.where(round(df_train['log_TARGET'], 1) <= -29.9, 1, 0) # class 1 means TARGET is 0.0 "
   ]
  },
  {
   "cell_type": "code",
   "execution_count": null,
   "id": "359d3d69-5a46-422c-b12d-33c0295569c9",
   "metadata": {},
   "outputs": [],
   "source": []
  },
  {
   "cell_type": "code",
   "execution_count": 5,
   "id": "bf1fad7e-6d33-44e8-b6c4-6f19f0f4240f",
   "metadata": {},
   "outputs": [],
   "source": [
    "df_nan = df_train[df_train['economic_class'] == 'Nan']"
   ]
  },
  {
   "cell_type": "code",
   "execution_count": 6,
   "id": "a42f1d45-cb1e-4cc2-8c89-c8d457ce933e",
   "metadata": {},
   "outputs": [],
   "source": [
    "df_train = df_train[df_train['economic_class'] != 'Nan']"
   ]
  },
  {
   "cell_type": "code",
   "execution_count": null,
   "id": "316b1c55-f38e-4394-aef4-1e8ccbd16ef8",
   "metadata": {},
   "outputs": [],
   "source": []
  },
  {
   "cell_type": "code",
   "execution_count": 7,
   "id": "e4e656fb-04d5-453b-bb96-2835d3948e97",
   "metadata": {},
   "outputs": [],
   "source": [
    "X_cols = ['log_first_prediction',\n",
    "         'Retention_count_D0_3', 'Retention_count_D4_7', 'Retention_count_D8_11', 'Retention_count_D12_15',\n",
    "         'Avg_Lvl_Count_D0_3', 'Avg_Lvl_Count_D4_7', 'Avg_Lvl_Count_D8_11', 'Avg_Lvl_Count_D12_15',\n",
    "         'Avg_Duration_Lvl0_3', 'Avg_Duration_Lvl4_7', 'Avg_Duration_Lvl8_10', \n",
    "         'Total_IAPRevenue', 'Total_AdRevenue']"
   ]
  },
  {
   "cell_type": "code",
   "execution_count": 8,
   "id": "f285a5fb-3b19-4bde-a727-2b3010fcf979",
   "metadata": {},
   "outputs": [],
   "source": [
    "from sklearn.ensemble import RandomForestClassifier\n",
    "from sklearn.metrics import f1_score, confusion_matrix, accuracy_score"
   ]
  },
  {
   "cell_type": "code",
   "execution_count": 9,
   "id": "1de8a3cf-847a-4373-aff2-87cd8c0f63ae",
   "metadata": {},
   "outputs": [],
   "source": [
    "model = RandomForestClassifier(random_state = 128)"
   ]
  },
  {
   "cell_type": "code",
   "execution_count": 10,
   "id": "2f0db0f2-f88e-4076-925f-5e71ebaaa3d4",
   "metadata": {},
   "outputs": [],
   "source": [
    "scaler = MinMaxScaler()\n",
    "X = pd.DataFrame(scaler.fit_transform(df_train[X_cols]), columns=df_train[X_cols].columns)"
   ]
  },
  {
   "cell_type": "code",
   "execution_count": 11,
   "id": "81189d35-a20c-4a3d-a6ab-84e263773e3e",
   "metadata": {},
   "outputs": [],
   "source": [
    "X_train, X_test, y_train, y_test = train_test_split(X, df_train.target_class, test_size=0.2, random_state=42)"
   ]
  },
  {
   "cell_type": "code",
   "execution_count": 12,
   "id": "e6402471-986a-46a5-a809-935ebf407c8e",
   "metadata": {},
   "outputs": [],
   "source": [
    "model.fit(X_train, y_train)\n",
    "\n",
    "train_predictions = model.predict(X_train)\n",
    "test_predictions = model.predict(X_test)\n",
    "\n",
    "train_acc = accuracy_score(y_train, train_predictions)\n",
    "test_acc = accuracy_score(y_test, test_predictions)\n",
    "\n",
    "f1_train = f1_score(y_train, train_predictions)\n",
    "f1_test = f1_score(y_test, test_predictions)\n",
    "\n",
    "cm = confusion_matrix(y_test, test_predictions)"
   ]
  },
  {
   "cell_type": "code",
   "execution_count": 13,
   "id": "47146e48-3af5-46db-be5f-39a0c04a146c",
   "metadata": {},
   "outputs": [
    {
     "name": "stdout",
     "output_type": "stream",
     "text": [
      "0.9990297338216909\n",
      "0.7908683723002603\n",
      "0.9992800967410784\n",
      "0.8522458041320807\n"
     ]
    }
   ],
   "source": [
    "print(train_acc)\n",
    "print(test_acc)\n",
    "\n",
    "print(f1_train)\n",
    "print(f1_test)"
   ]
  },
  {
   "cell_type": "code",
   "execution_count": 14,
   "id": "fa740846-5cef-48f2-9f24-42004b99c69a",
   "metadata": {},
   "outputs": [
    {
     "data": {
      "image/png": "[encoded data removed]",
      "text/plain": [
       "<Figure size 800x600 with 1 Axes>"
      ]
     },
     "metadata": {},
     "output_type": "display_data"
    }
   ],
   "source": [
    "plt.figure(figsize=(8, 6))\n",
    "sns.heatmap(cm, annot=True, fmt=\"d\", cmap=\"Blues\", cbar=False, xticklabels=['Class 0', 'Class 1'], yticklabels=['Class 0', 'Class 1'])\n",
    "plt.xlabel('Predicted Labels')\n",
    "plt.ylabel('True Labels')\n",
    "plt.title('Confusion Matrix')\n",
    "plt.show()"
   ]
  },
  {
   "cell_type": "code",
   "execution_count": null,
   "id": "609de26d-0376-4816-8417-913f3aa4d26a",
   "metadata": {},
   "outputs": [],
   "source": []
  },
  {
   "cell_type": "markdown",
   "id": "43ed4a01-964e-4ba7-8eba-ab547de71ef5",
   "metadata": {},
   "source": [
    "**reg**"
   ]
  },
  {
   "cell_type": "code",
   "execution_count": 15,
   "id": "7931941b-8685-4617-ac8b-b677343c0621",
   "metadata": {},
   "outputs": [],
   "source": [
    "df_train_reg = df_train[df_train['target_class'] == 0]"
   ]
  },
  {
   "cell_type": "code",
   "execution_count": 16,
   "id": "657321a2-c950-4de6-a7df-052ccfbd2fd4",
   "metadata": {},
   "outputs": [],
   "source": [
    "X_cols = ['log_first_prediction',\n",
    "          'Retention_count_D0_3', 'Retention_count_D4_7', 'Retention_count_D8_11', 'Retention_count_D12_15',\n",
    "          'Avg_Lvl_Count_D0_3', 'Avg_Lvl_Count_D4_7', 'Avg_Lvl_Count_D8_11', 'Avg_Lvl_Count_D12_15',\n",
    "          'Avg_Duration_Lvl0_3',\t'Avg_Duration_Lvl4_7',\t'Avg_Duration_Lvl8_10',\n",
    "          'Total_IAPRevenue', 'Total_AdRevenue']"
   ]
  },
  {
   "cell_type": "code",
   "execution_count": 17,
   "id": "e0afd7c0-a332-404f-8554-3d09a368d1e5",
   "metadata": {},
   "outputs": [],
   "source": [
    "from sklearn.ensemble import RandomForestRegressor\n",
    "from sklearn.metrics import mean_squared_error"
   ]
  },
  {
   "cell_type": "code",
   "execution_count": 18,
   "id": "651b68c2-5c7e-47fe-96f3-b838ffd6fdc6",
   "metadata": {},
   "outputs": [],
   "source": [
    "regressor = RandomForestRegressor(n_estimators=100, random_state=42)"
   ]
  },
  {
   "cell_type": "code",
   "execution_count": 19,
   "id": "c7bff250-6ff8-4e87-8f87-9ca76ca6116f",
   "metadata": {},
   "outputs": [],
   "source": [
    "scaler = MinMaxScaler()\n",
    "X = pd.DataFrame(scaler.fit_transform(df_train_reg[X_cols]), columns=df_train_reg[X_cols].columns)"
   ]
  },
  {
   "cell_type": "code",
   "execution_count": 20,
   "id": "69e1bcb0-69ce-457f-b760-2175898d06be",
   "metadata": {},
   "outputs": [],
   "source": [
    "X_train, X_test, y_train, y_test = train_test_split(X, df_train_reg.log_TARGET, test_size=0.2, random_state=42)"
   ]
  },
  {
   "cell_type": "code",
   "execution_count": 21,
   "id": "73b8e91a-6bff-40a0-86c7-f4adae70f8f8",
   "metadata": {},
   "outputs": [],
   "source": [
    "regressor.fit(X_train, y_train)\n",
    "\n",
    "train_predictions = regressor.predict(X_train)\n",
    "test_predictions = regressor.predict(X_test)\n",
    "\n",
    "rmse_test = np.sqrt(mean_squared_error(y_test, test_predictions))\n",
    "rmse_train = np.sqrt(mean_squared_error(y_train, train_predictions))"
   ]
  },
  {
   "cell_type": "code",
   "execution_count": 22,
   "id": "d16ccffd-ffc2-4ac1-8ff7-e747e3382604",
   "metadata": {},
   "outputs": [
    {
     "name": "stdout",
     "output_type": "stream",
     "text": [
      "1.822242685146896\n",
      "0.687730147913192\n"
     ]
    }
   ],
   "source": [
    "print(rmse_test)\n",
    "print(rmse_train)"
   ]
  },
  {
   "cell_type": "code",
   "execution_count": null,
   "id": "4675ecbb-5fd7-4aff-a725-177d1464efc4",
   "metadata": {},
   "outputs": [],
   "source": []
  },
  {
   "cell_type": "markdown",
   "id": "8141acc4-05fd-472c-911b-eb94f49219cf",
   "metadata": {},
   "source": [
    "**test**"
   ]
  },
  {
   "cell_type": "code",
   "execution_count": 24,
   "id": "29128b31-d657-43e7-9def-1946344b67d2",
   "metadata": {},
   "outputs": [],
   "source": [
    "df_test = pd.read_csv('../../../data/df_test_preprocessed.csv')"
   ]
  },
  {
   "cell_type": "code",
   "execution_count": 25,
   "id": "2ca63196-2e07-4e97-9bf4-6bae0411d7bd",
   "metadata": {},
   "outputs": [],
   "source": [
    "df_nan = df_test[df_test['economic_class'] == 'Nan']"
   ]
  },
  {
   "cell_type": "code",
   "execution_count": 26,
   "id": "09acd9d1-d430-40f3-9fd4-c0d4ffb1e6f9",
   "metadata": {},
   "outputs": [],
   "source": [
    "df_test = df_test[df_test['economic_class'] != 'Nan']"
   ]
  },
  {
   "cell_type": "code",
   "execution_count": null,
   "id": "df23dd2a-17ff-43a3-b36c-9dabf73cdbd0",
   "metadata": {},
   "outputs": [],
   "source": []
  },
  {
   "cell_type": "code",
   "execution_count": 27,
   "id": "0fe055a7-b482-45a9-8bab-427660277249",
   "metadata": {},
   "outputs": [
    {
     "name": "stderr",
     "output_type": "stream",
     "text": [
      "/var/folders/w5/m6rwwhxs3f79c4v89rgmvnw40000gn/T/ipykernel_28473/3843865468.py:19: SettingWithCopyWarning: \n",
      "A value is trying to be set on a copy of a slice from a DataFrame.\n",
      "Try using .loc[row_indexer,col_indexer] = value instead\n",
      "\n",
      "See the caveats in the documentation: https://pandas.pydata.org/pandas-docs/stable/user_guide/indexing.html#returning-a-view-versus-a-copy\n",
      "  df_test_zero.loc[:, 'log_TARGET'] = -30.0\n",
      "/var/folders/w5/m6rwwhxs3f79c4v89rgmvnw40000gn/T/ipykernel_28473/3843865468.py:20: SettingWithCopyWarning: \n",
      "A value is trying to be set on a copy of a slice from a DataFrame.\n",
      "Try using .loc[row_indexer,col_indexer] = value instead\n",
      "\n",
      "See the caveats in the documentation: https://pandas.pydata.org/pandas-docs/stable/user_guide/indexing.html#returning-a-view-versus-a-copy\n",
      "  df_test_zero.loc[:, 'TARGET'] = 0.0\n"
     ]
    }
   ],
   "source": [
    "X_clas = ['log_first_prediction',\n",
    "         'Retention_count_D0_3', 'Retention_count_D4_7', 'Retention_count_D8_11', 'Retention_count_D12_15',\n",
    "         'Avg_Lvl_Count_D0_3', 'Avg_Lvl_Count_D4_7', 'Avg_Lvl_Count_D8_11', 'Avg_Lvl_Count_D12_15',\n",
    "         'Avg_Duration_Lvl0_3', 'Avg_Duration_Lvl4_7', 'Avg_Duration_Lvl8_10', \n",
    "         'Total_IAPRevenue', 'Total_AdRevenue']\n",
    "\n",
    "scaler = MinMaxScaler()\n",
    "X_cl = pd.DataFrame(scaler.fit_transform(df_test[X_clas]), columns=df_test[X_clas].columns)\n",
    "\n",
    "\n",
    "test_target_classes = model.predict(X_cl)\n",
    "\n",
    "df_test.loc[:, 'target_class'] = test_target_classes\n",
    "\n",
    "df_test_zero = df_test[df_test['target_class'] == 1]\n",
    "\n",
    "df_test_reg = df_test[df_test['target_class'] == 0]\n",
    "\n",
    "df_test_zero.loc[:, 'log_TARGET'] = -30.0\n",
    "df_test_zero.loc[:, 'TARGET'] = 0.0 "
   ]
  },
  {
   "cell_type": "code",
   "execution_count": 28,
   "id": "79cd183b-85c4-4a49-8567-8f315c89b166",
   "metadata": {},
   "outputs": [
    {
     "name": "stderr",
     "output_type": "stream",
     "text": [
      "/var/folders/w5/m6rwwhxs3f79c4v89rgmvnw40000gn/T/ipykernel_28473/2284775056.py:12: SettingWithCopyWarning: \n",
      "A value is trying to be set on a copy of a slice from a DataFrame.\n",
      "Try using .loc[row_indexer,col_indexer] = value instead\n",
      "\n",
      "See the caveats in the documentation: https://pandas.pydata.org/pandas-docs/stable/user_guide/indexing.html#returning-a-view-versus-a-copy\n",
      "  df_test_reg.loc[:, 'log_TARGET'] = test_reg_log_TARGET\n",
      "/var/folders/w5/m6rwwhxs3f79c4v89rgmvnw40000gn/T/ipykernel_28473/2284775056.py:14: SettingWithCopyWarning: \n",
      "A value is trying to be set on a copy of a slice from a DataFrame.\n",
      "Try using .loc[row_indexer,col_indexer] = value instead\n",
      "\n",
      "See the caveats in the documentation: https://pandas.pydata.org/pandas-docs/stable/user_guide/indexing.html#returning-a-view-versus-a-copy\n",
      "  df_test_reg.loc[:, 'TARGET'] = np.power(np.e, df_test_reg['log_TARGET']) - 1.0e-22\n"
     ]
    }
   ],
   "source": [
    "X_regs = ['log_first_prediction',\n",
    "          'Retention_count_D0_3', 'Retention_count_D4_7', 'Retention_count_D8_11', 'Retention_count_D12_15',\n",
    "          'Avg_Lvl_Count_D0_3', 'Avg_Lvl_Count_D4_7', 'Avg_Lvl_Count_D8_11', 'Avg_Lvl_Count_D12_15',\n",
    "          'Avg_Duration_Lvl0_3',\t'Avg_Duration_Lvl4_7',\t'Avg_Duration_Lvl8_10',\n",
    "          'Total_IAPRevenue', 'Total_AdRevenue']\n",
    "\n",
    "scaler = MinMaxScaler()\n",
    "X_re = pd.DataFrame(scaler.fit_transform(df_test_reg[X_regs]), columns=df_test_reg[X_regs].columns)\n",
    "\n",
    "test_reg_log_TARGET = regressor.predict(X_re)\n",
    "\n",
    "df_test_reg.loc[:, 'log_TARGET'] = test_reg_log_TARGET\n",
    "\n",
    "df_test_reg.loc[:, 'TARGET'] = np.power(np.e, df_test_reg['log_TARGET']) - 1.0e-22"
   ]
  },
  {
   "cell_type": "code",
   "execution_count": 29,
   "id": "b35a90bf-31f0-49b4-8fbd-fa3322fc8019",
   "metadata": {},
   "outputs": [],
   "source": [
    "df_test = pd.concat([df_test_zero, df_test_reg], ignore_index=True)\n",
    "df_test = df_test.sort_values(by='ID')"
   ]
  },
  {
   "cell_type": "code",
   "execution_count": null,
   "id": "9a5dc28a-ce86-4433-84a5-2700ac776cd4",
   "metadata": {},
   "outputs": [],
   "source": []
  },
  {
   "cell_type": "code",
   "execution_count": 30,
   "id": "22cbd0a9-8efc-4a80-be4d-62f318990375",
   "metadata": {},
   "outputs": [],
   "source": [
    "df_nan = pd.read_csv('../../../data/test_economic_class/df_nan.csv')"
   ]
  },
  {
   "cell_type": "code",
   "execution_count": null,
   "id": "d1183824-326a-446e-9ecd-af91b5661480",
   "metadata": {},
   "outputs": [],
   "source": []
  },
  {
   "cell_type": "code",
   "execution_count": 31,
   "id": "bd0f6ca0-2ecb-4340-b105-811825a34ab2",
   "metadata": {},
   "outputs": [],
   "source": [
    "df_sub_global = pd.concat([df_test, df_nan], ignore_index=True)\n",
    "df_sub_global = df_sub_global.sort_values(by='ID')"
   ]
  },
  {
   "cell_type": "code",
   "execution_count": 32,
   "id": "e370589a-058b-4886-b8bd-28e87f6234d0",
   "metadata": {},
   "outputs": [],
   "source": [
    "df_sub_global['TARGET'] = df_sub_global['TARGET'] + (df_sub_global['Total_AdRevenue'] + df_sub_global['Total_IAPRevenue'])"
   ]
  },
  {
   "cell_type": "code",
   "execution_count": 33,
   "id": "94a748ad-c69e-4829-b841-5cd8d98551fe",
   "metadata": {},
   "outputs": [],
   "source": [
    "df_sub_global = df_sub_global[['ID','TARGET']]"
   ]
  },
  {
   "cell_type": "code",
   "execution_count": 35,
   "id": "e74ef00d-07c2-4858-a708-333ebab49049",
   "metadata": {},
   "outputs": [],
   "source": [
    "df_sub_global.to_csv('../../../data/submissions/df_sub_global.csv', index=False)"
   ]
  },
  {
   "cell_type": "code",
   "execution_count": null,
   "id": "2c1b97c3-0bd9-4f0f-990b-2ea63de22d2a",
   "metadata": {},
   "outputs": [],
   "source": []
  }
 ],
 "metadata": {
  "kernelspec": {
   "display_name": "Python 3 (ipykernel)",
   "language": "python",
   "name": "python3"
  },
  "language_info": {
   "codemirror_mode": {
    "name": "ipython",
    "version": 3
   },
   "file_extension": ".py",
   "mimetype": "text/x-python",
   "name": "python",
   "nbconvert_exporter": "python",
   "pygments_lexer": "ipython3",
   "version": "3.12.2"
  }
 },
 "nbformat": 4,
 "nbformat_minor": 5
}
